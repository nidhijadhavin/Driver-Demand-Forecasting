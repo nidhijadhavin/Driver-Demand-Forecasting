{
 "cells": [
  {
   "cell_type": "markdown",
   "id": "ddabd14b",
   "metadata": {},
   "source": [
    "# Driver Demand Forecasting\n",
    "This notebook demonstrates a machine learning pipeline to forecast driver demand in ridesharing and food delivery services using time series analysis and ensemble models (XGBoost and CNN)."
   ]
  },
  {
   "cell_type": "markdown",
   "id": "47e52107",
   "metadata": {},
   "source": [
    "## Step 1: Import Libraries"
   ]
  },
  {
   "cell_type": "code",
   "execution_count": null,
   "id": "825e05b9",
   "metadata": {},
   "outputs": [],
   "source": [
    "import numpy as np\n",
    "import pandas as pd\n",
    "import matplotlib.pyplot as plt\n",
    "import seaborn as sns\n",
    "from sklearn.model_selection import train_test_split\n",
    "from sklearn.preprocessing import MinMaxScaler\n",
    "from sklearn.metrics import mean_squared_error, mean_absolute_error, r2_score\n",
    "import xgboost as xgb\n",
    "from tensorflow.keras.models import Sequential\n",
    "from tensorflow.keras.layers import Conv1D, MaxPooling1D, Flatten, Dense\n",
    "from tensorflow.keras.callbacks import EarlyStopping"
   ]
  },
  {
   "cell_type": "markdown",
   "id": "39460343",
   "metadata": {},
   "source": [
    "## Step 2: Load and Explore Sample Data"
   ]
  },
  {
   "cell_type": "code",
   "execution_count": null,
   "id": "4d12c8d3",
   "metadata": {},
   "outputs": [],
   "source": [
    "np.random.seed(42)\n",
    "weeks = np.tile(np.arange(1, 11), 10)\n",
    "center_id = np.repeat(np.arange(1, 11), 10)\n",
    "base_price = np.random.uniform(100, 200, size=100)\n",
    "num_orders = (np.sin(weeks / 1.5) * 20 + np.random.normal(0, 5, size=100) + 50).astype(int)\n",
    "data = pd.DataFrame({\n",
    "    'week': weeks,\n",
    "    'center_id': center_id,\n",
    "    'base_price': base_price,\n",
    "    'num_orders': num_orders\n",
    "})\n",
    "data.head()"
   ]
  },
  {
   "cell_type": "markdown",
   "id": "dee8c3bc",
   "metadata": {},
   "source": [
    "## Step 3: Preprocess the Data"
   ]
  },
  {
   "cell_type": "code",
   "execution_count": null,
   "id": "7f354d07",
   "metadata": {},
   "outputs": [],
   "source": [
    "X = data[['week', 'center_id', 'base_price']]\n",
    "y = data['num_orders']\n",
    "scaler = MinMaxScaler()\n",
    "X_scaled = scaler.fit_transform(X)\n",
    "X_train, X_test, y_train, y_test = train_test_split(X_scaled, y, test_size=0.2, random_state=42)"
   ]
  },
  {
   "cell_type": "markdown",
   "id": "d2497ff2",
   "metadata": {},
   "source": [
    "## Step 4: XGBoost Regressor Model"
   ]
  },
  {
   "cell_type": "code",
   "execution_count": null,
   "id": "ebe67134",
   "metadata": {},
   "outputs": [],
   "source": [
    "xgb_model = xgb.XGBRegressor(objective='reg:squarederror')\n",
    "xgb_model.fit(X_train, y_train)\n",
    "y_pred_xgb = xgb_model.predict(X_test)\n",
    "\n",
    "print(\"XGBoost MAE:\", mean_absolute_error(y_test, y_pred_xgb))\n",
    "print(\"XGBoost RMSE:\", np.sqrt(mean_squared_error(y_test, y_pred_xgb)))\n",
    "print(\"XGBoost R²:\", r2_score(y_test, y_pred_xgb))"
   ]
  },
  {
   "cell_type": "markdown",
   "id": "3d5456a5",
   "metadata": {},
   "source": [
    "## Step 5: CNN Regressor Model (1D)"
   ]
  },
  {
   "cell_type": "code",
   "execution_count": null,
   "id": "2e832b98",
   "metadata": {},
   "outputs": [],
   "source": [
    "X_train_cnn = X_train.reshape((X_train.shape[0], X_train.shape[1], 1))\n",
    "X_test_cnn = X_test.reshape((X_test.shape[0], X_test.shape[1], 1))\n",
    "\n",
    "cnn_model = Sequential([\n",
    "    Conv1D(32, 2, activation='relu', input_shape=(X_train.shape[1], 1)),\n",
    "    MaxPooling1D(1),\n",
    "    Flatten(),\n",
    "    Dense(50, activation='relu'),\n",
    "    Dense(1)\n",
    "])\n",
    "\n",
    "cnn_model.compile(optimizer='adam', loss='mse')\n",
    "cnn_model.fit(X_train_cnn, y_train, epochs=50, validation_split=0.2, callbacks=[EarlyStopping(patience=5)], verbose=0)\n",
    "\n",
    "y_pred_cnn = cnn_model.predict(X_test_cnn)\n",
    "\n",
    "print(\"CNN MAE:\", mean_absolute_error(y_test, y_pred_cnn))\n",
    "print(\"CNN RMSE:\", np.sqrt(mean_squared_error(y_test, y_pred_cnn)))\n",
    "print(\"CNN R²:\", r2_score(y_test, y_pred_cnn))"
   ]
  },
  {
   "cell_type": "markdown",
   "id": "bc6fc5ed",
   "metadata": {},
   "source": [
    "## Step 6: Compare Predictions"
   ]
  },
  {
   "cell_type": "code",
   "execution_count": null,
   "id": "ba30f42a",
   "metadata": {},
   "outputs": [],
   "source": [
    "plt.figure(figsize=(10,5))\n",
    "plt.plot(y_test.values, label='True')\n",
    "plt.plot(y_pred_xgb, label='XGBoost')\n",
    "plt.plot(y_pred_cnn, label='CNN')\n",
    "plt.legend()\n",
    "plt.title(\"Model Prediction Comparison\")\n",
    "plt.show()"
   ]
  }
 ],
 "metadata": {},
 "nbformat": 4,
 "nbformat_minor": 5
}
